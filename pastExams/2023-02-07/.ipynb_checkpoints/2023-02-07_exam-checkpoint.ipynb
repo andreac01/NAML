{
 "cells": [
  {
   "cell_type": "code",
   "execution_count": null,
   "id": "31f4584a-2eca-46a1-95dc-48c5b087d804",
   "metadata": {},
   "outputs": [],
   "source": [
    "import numpy as np\n",
    "import matplotlib.pyplot as plt\n",
    "from matplotlib.image import imread\n",
    "image_path = 'polimi_compress.jpg'\n",
    "img = imread(image_path)\n",
    "img_RGB = [np.array(img[:,:,i], dtype = np.float64)/255 for i in range(3)]\n",
    "def plot_image(RGB, ax = None):\n",
    "if ax is None:\n",
    "_, ax = plt.subplots(1,1, figsize = (12,5))\n",
    "ax.imshow(np.clip(np.stack(RGB, axis = 2),0,1))\n",
    "plt.axis('off')\n",
    "plot_image(img_RGB)"
   ]
  }
 ],
 "metadata": {
  "kernelspec": {
   "display_name": "Python 3 (ipykernel)",
   "language": "python",
   "name": "python3"
  },
  "language_info": {
   "codemirror_mode": {
    "name": "ipython",
    "version": 3
   },
   "file_extension": ".py",
   "mimetype": "text/x-python",
   "name": "python",
   "nbconvert_exporter": "python",
   "pygments_lexer": "ipython3",
   "version": "3.11.6"
  }
 },
 "nbformat": 4,
 "nbformat_minor": 5
}
